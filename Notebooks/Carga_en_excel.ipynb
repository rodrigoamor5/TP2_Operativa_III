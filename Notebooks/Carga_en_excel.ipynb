{
 "cells": [
  {
   "cell_type": "code",
   "execution_count": 1,
   "metadata": {},
   "outputs": [],
   "source": [
    "import pandas as pd"
   ]
  },
  {
   "cell_type": "code",
   "execution_count": 4,
   "metadata": {},
   "outputs": [],
   "source": [
    "datos_prueba = pd.read_csv(\"../Datos/Caso II - Set de Datos.csv\", delimiter= \",\", index_col= 0)\n",
    "column_mapping = {column_name: int(column_name) for column_name in datos_prueba.columns}\n",
    "datos_prueba.rename(columns=column_mapping, inplace=True) # Reassign columns with new integer names"
   ]
  },
  {
   "cell_type": "code",
   "execution_count": 18,
   "metadata": {},
   "outputs": [],
   "source": [
    "cpc = [['C', 'D'], ['M'], ['G', 'K'], ['J', 'H', 'E'], ['B', 'L', 'N'], ['A', 'F', 'I']]\n",
    "cna = ['O']\n",
    "costo = 1100"
   ]
  },
  {
   "cell_type": "code",
   "execution_count": null,
   "metadata": {},
   "outputs": [],
   "source": [
    "Dim costoDeOportunidad As String\n",
    "Dim cantidadDeClientesPorCamion As String\n",
    "Dim cantidadDeCamiones As String\n",
    "Dim tonsMaxPorCamion As String\n",
    "Dim distMaxPorCliente As String"
   ]
  },
  {
   "cell_type": "code",
   "execution_count": null,
   "metadata": {},
   "outputs": [],
   "source": [
    "Set costoDeOportunidad = home.Range('C8').Value\n",
    "Set cantidadDeClientesPorCamion = home.Range('C9').Value\n",
    "Set cantidadDeCamiones = home.Range('C10').Value\n",
    "Set tonsMaxPorCamion = home.Range('C11').Value\n",
    "Set distMaxPorCliente = home.Range('C12').Value"
   ]
  },
  {
   "cell_type": "code",
   "execution_count": 2,
   "metadata": {},
   "outputs": [],
   "source": [
    "    COSTO_DE_OPORTUNIDAD As String\n",
    "    CANTIDAD_DE_CLIENTES_POR_CAMION As String\n",
    "    CANTIDAD_DE_CAMIONES As String\n",
    "    TONS_MAX_POR_CAMION As String\n",
    "    DIST_MAX_POR_CLIENTE As String"
   ]
  },
  {
   "cell_type": "code",
   "execution_count": 21,
   "metadata": {},
   "outputs": [],
   "source": [
    "\n",
    "pedidos = datos_prueba[9]\n",
    "lista_de_pedidos = []\n",
    "for i in range(len(cpc)):\n",
    "    camion = cpc[i]\n",
    "    for cliente in camion:\n",
    "        tons = pedidos[cliente]\n",
    "        new_row = {'Dia/ruteo': 9, 'Camion': i+1, 'Cliente': cliente, 'Tons': tons }\n",
    "        lista_de_pedidos.append(new_row)\n",
    "for cliente in cna:\n",
    "        tons = pedidos[cliente]\n",
    "        new_row = {'Dia/ruteo': 8, 'Camion': 'No asignado', 'Cliente': cliente, 'Tons': tons }\n",
    "        lista_de_pedidos.append(new_row)\n",
    "\n",
    "df_resultados = pd.DataFrame(lista_de_pedidos)\n"
   ]
  },
  {
   "cell_type": "code",
   "execution_count": 22,
   "metadata": {},
   "outputs": [
    {
     "data": {
      "text/html": [
       "<div>\n",
       "<style scoped>\n",
       "    .dataframe tbody tr th:only-of-type {\n",
       "        vertical-align: middle;\n",
       "    }\n",
       "\n",
       "    .dataframe tbody tr th {\n",
       "        vertical-align: top;\n",
       "    }\n",
       "\n",
       "    .dataframe thead th {\n",
       "        text-align: right;\n",
       "    }\n",
       "</style>\n",
       "<table border=\"1\" class=\"dataframe\">\n",
       "  <thead>\n",
       "    <tr style=\"text-align: right;\">\n",
       "      <th></th>\n",
       "      <th>Dia/ruteo</th>\n",
       "      <th>Camion</th>\n",
       "      <th>Cliente</th>\n",
       "      <th>Tons</th>\n",
       "    </tr>\n",
       "  </thead>\n",
       "  <tbody>\n",
       "    <tr>\n",
       "      <th>0</th>\n",
       "      <td>9</td>\n",
       "      <td>1</td>\n",
       "      <td>C</td>\n",
       "      <td>4</td>\n",
       "    </tr>\n",
       "    <tr>\n",
       "      <th>1</th>\n",
       "      <td>9</td>\n",
       "      <td>1</td>\n",
       "      <td>D</td>\n",
       "      <td>5</td>\n",
       "    </tr>\n",
       "    <tr>\n",
       "      <th>2</th>\n",
       "      <td>9</td>\n",
       "      <td>2</td>\n",
       "      <td>M</td>\n",
       "      <td>8</td>\n",
       "    </tr>\n",
       "    <tr>\n",
       "      <th>3</th>\n",
       "      <td>9</td>\n",
       "      <td>3</td>\n",
       "      <td>G</td>\n",
       "      <td>4</td>\n",
       "    </tr>\n",
       "    <tr>\n",
       "      <th>4</th>\n",
       "      <td>9</td>\n",
       "      <td>3</td>\n",
       "      <td>K</td>\n",
       "      <td>8</td>\n",
       "    </tr>\n",
       "    <tr>\n",
       "      <th>5</th>\n",
       "      <td>9</td>\n",
       "      <td>4</td>\n",
       "      <td>J</td>\n",
       "      <td>1</td>\n",
       "    </tr>\n",
       "    <tr>\n",
       "      <th>6</th>\n",
       "      <td>9</td>\n",
       "      <td>4</td>\n",
       "      <td>H</td>\n",
       "      <td>7</td>\n",
       "    </tr>\n",
       "    <tr>\n",
       "      <th>7</th>\n",
       "      <td>9</td>\n",
       "      <td>4</td>\n",
       "      <td>E</td>\n",
       "      <td>3</td>\n",
       "    </tr>\n",
       "    <tr>\n",
       "      <th>8</th>\n",
       "      <td>9</td>\n",
       "      <td>5</td>\n",
       "      <td>B</td>\n",
       "      <td>4</td>\n",
       "    </tr>\n",
       "    <tr>\n",
       "      <th>9</th>\n",
       "      <td>9</td>\n",
       "      <td>5</td>\n",
       "      <td>L</td>\n",
       "      <td>1</td>\n",
       "    </tr>\n",
       "    <tr>\n",
       "      <th>10</th>\n",
       "      <td>9</td>\n",
       "      <td>5</td>\n",
       "      <td>N</td>\n",
       "      <td>6</td>\n",
       "    </tr>\n",
       "    <tr>\n",
       "      <th>11</th>\n",
       "      <td>9</td>\n",
       "      <td>6</td>\n",
       "      <td>A</td>\n",
       "      <td>5</td>\n",
       "    </tr>\n",
       "    <tr>\n",
       "      <th>12</th>\n",
       "      <td>9</td>\n",
       "      <td>6</td>\n",
       "      <td>F</td>\n",
       "      <td>5</td>\n",
       "    </tr>\n",
       "    <tr>\n",
       "      <th>13</th>\n",
       "      <td>9</td>\n",
       "      <td>6</td>\n",
       "      <td>I</td>\n",
       "      <td>5</td>\n",
       "    </tr>\n",
       "    <tr>\n",
       "      <th>14</th>\n",
       "      <td>8</td>\n",
       "      <td>No asignado</td>\n",
       "      <td>O</td>\n",
       "      <td>1</td>\n",
       "    </tr>\n",
       "  </tbody>\n",
       "</table>\n",
       "</div>"
      ],
      "text/plain": [
       "    Dia/ruteo       Camion Cliente  Tons\n",
       "0           9            1       C     4\n",
       "1           9            1       D     5\n",
       "2           9            2       M     8\n",
       "3           9            3       G     4\n",
       "4           9            3       K     8\n",
       "5           9            4       J     1\n",
       "6           9            4       H     7\n",
       "7           9            4       E     3\n",
       "8           9            5       B     4\n",
       "9           9            5       L     1\n",
       "10          9            5       N     6\n",
       "11          9            6       A     5\n",
       "12          9            6       F     5\n",
       "13          9            6       I     5\n",
       "14          8  No asignado       O     1"
      ]
     },
     "execution_count": 22,
     "metadata": {},
     "output_type": "execute_result"
    }
   ],
   "source": [
    "df_resultados.to_csv(\"Resultados_optimizacion.csv\")"
   ]
  },
  {
   "cell_type": "code",
   "execution_count": null,
   "metadata": {},
   "outputs": [],
   "source": []
  },
  {
   "cell_type": "code",
   "execution_count": 8,
   "metadata": {},
   "outputs": [
    {
     "name": "stdout",
     "output_type": "stream",
     "text": [
      "4\n"
     ]
    }
   ],
   "source": [
    "pedidos = datos_prueba[1]\n",
    "print(pedidos['A'])"
   ]
  }
 ],
 "metadata": {
  "kernelspec": {
   "display_name": "Python 3",
   "language": "python",
   "name": "python3"
  },
  "language_info": {
   "codemirror_mode": {
    "name": "ipython",
    "version": 3
   },
   "file_extension": ".py",
   "mimetype": "text/x-python",
   "name": "python",
   "nbconvert_exporter": "python",
   "pygments_lexer": "ipython3",
   "version": "3.9.0"
  },
  "orig_nbformat": 4
 },
 "nbformat": 4,
 "nbformat_minor": 2
}
